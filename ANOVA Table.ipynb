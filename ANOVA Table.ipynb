{
 "cells": [
  {
   "cell_type": "code",
   "execution_count": 1,
   "metadata": {},
   "outputs": [],
   "source": [
    "import numpy as np"
   ]
  },
  {
   "cell_type": "code",
   "execution_count": 74,
   "metadata": {},
   "outputs": [
    {
     "data": {
      "text/plain": [
       "array([list([7, 11, 17, 18, 21]), list([8, 6, 3, 2, 6, 8]),\n",
       "       list([4, 2, 1, 8]), list([3, 6, 11, 17, 15]), list([5, 4, 0, 3]),\n",
       "       list([2, 1])], dtype=object)"
      ]
     },
     "execution_count": 74,
     "metadata": {},
     "output_type": "execute_result"
    }
   ],
   "source": [
    "tab=np.array([[7,11,17,18,21],[8,6,3,2,6,8],[4,2,1,8],[3,6,11,17,15],[5,4,0,3],[2,1]])\n",
    "tab"
   ]
  },
  {
   "cell_type": "code",
   "execution_count": 75,
   "metadata": {},
   "outputs": [
    {
     "data": {
      "text/plain": [
       "26"
      ]
     },
     "execution_count": 75,
     "metadata": {},
     "output_type": "execute_result"
    }
   ],
   "source": [
    "def lenT():\n",
    "    n=0\n",
    "    for i in range(0,tab.size):\n",
    "        n=n+len(tab[i])\n",
    "    return n\n",
    "n=lenT()\n",
    "n"
   ]
  },
  {
   "cell_type": "code",
   "execution_count": 76,
   "metadata": {},
   "outputs": [
    {
     "name": "stdout",
     "output_type": "stream",
     "text": [
      "Gt: 189\n",
      "Ts: 2257\n"
     ]
    }
   ],
   "source": [
    "def grandTot():\n",
    "    g=0\n",
    "    for i in range(0,tab.size):\n",
    "        for j in range(0,len(tab[i])):\n",
    "            g=g+tab[i][j]\n",
    "    return g\n",
    "gt=grandTot()\n",
    "print(\"Gt:\",gt)\n",
    "\n",
    "def ts():\n",
    "    g=0\n",
    "    for i in range(0,tab.size):\n",
    "        for j in range(0,len(tab[i])):\n",
    "            g=g+(tab[i][j]**2)\n",
    "    return g\n",
    "ts=ts()\n",
    "print(\"Ts:\",ts)\n",
    "\n"
   ]
  },
  {
   "cell_type": "code",
   "execution_count": 77,
   "metadata": {},
   "outputs": [
    {
     "name": "stdout",
     "output_type": "stream",
     "text": [
      "cf: 1373.8846153846155\n",
      "Total Sum 883.1153846153845\n",
      "Total row sum 233.94871794871779\n",
      "Error sum: 649.1666666666667\n"
     ]
    }
   ],
   "source": [
    "def rs(r):\n",
    "    rs=0\n",
    "    for i in range(0,len(r)):\n",
    "        rs=r[i]+rs\n",
    "    return rs**2\n",
    "\n",
    "cf=gt**2/n\n",
    "print(\"cf:\",cf)\n",
    "\n",
    "tss=ts-cf\n",
    "print(\"Total Sum\",tss)\n",
    "\n",
    "rss=0\n",
    "for i in range(0,tab.size):\n",
    "    r=rs(tab[i])\n",
    "    rss=rss+r\n",
    "trss=(rss/tab.size)-cf\n",
    "print(\"Total row sum\",trss)\n",
    "\n",
    "ess=tss-trss\n",
    "print(\"Error sum:\",ess)\n"
   ]
  },
  {
   "cell_type": "code",
   "execution_count": 78,
   "metadata": {},
   "outputs": [
    {
     "name": "stdout",
     "output_type": "stream",
     "text": [
      "46.78974358974356\n",
      "32.458333333333336\n",
      "F Calculated value: 1.4415325367828566\n"
     ]
    }
   ],
   "source": [
    "mtr=trss/(tab.size-1)\n",
    "print(mtr)\n",
    "\n",
    "me=ess/(lenT()-tab.size)\n",
    "print(me)\n",
    "\n",
    "fCal=mtr/me\n",
    "print(\"F Calculated value:\",fCal)"
   ]
  },
  {
   "cell_type": "code",
   "execution_count": null,
   "metadata": {},
   "outputs": [],
   "source": []
  }
 ],
 "metadata": {
  "kernelspec": {
   "display_name": "Python 3",
   "language": "python",
   "name": "python3"
  },
  "language_info": {
   "codemirror_mode": {
    "name": "ipython",
    "version": 3
   },
   "file_extension": ".py",
   "mimetype": "text/x-python",
   "name": "python",
   "nbconvert_exporter": "python",
   "pygments_lexer": "ipython3",
   "version": "3.6.4"
  }
 },
 "nbformat": 4,
 "nbformat_minor": 2
}
